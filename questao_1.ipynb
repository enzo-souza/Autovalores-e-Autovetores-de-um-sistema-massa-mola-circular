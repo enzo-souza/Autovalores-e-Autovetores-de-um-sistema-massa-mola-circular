{
 "cells": [
  {
   "cell_type": "code",
   "execution_count": 1,
   "id": "0c0b1f55",
   "metadata": {},
   "outputs": [],
   "source": [
    "import numpy as np"
   ]
  },
  {
   "cell_type": "code",
   "execution_count": 2,
   "id": "a240ffa8",
   "metadata": {},
   "outputs": [],
   "source": [
    "massa = 1\n",
    "k = 1\n",
    "\n"
   ]
  },
  {
   "cell_type": "code",
   "execution_count": null,
   "id": "db8527e9",
   "metadata": {},
   "outputs": [],
   "source": [
    "#constroi o loop para o problema circular\n",
    "a = [1,2,3,4]\n",
    "for i in range(-1,len(a)+1):\n",
    "    print(a[i%len(a)],i)"
   ]
  },
  {
   "cell_type": "code",
   "execution_count": null,
   "id": "0948ee9e",
   "metadata": {},
   "outputs": [],
   "source": [
    "n = int(input())"
   ]
  },
  {
   "cell_type": "code",
   "execution_count": null,
   "id": "488cc5c2",
   "metadata": {},
   "outputs": [],
   "source": [
    "#constroi a matriz homogenea\n",
    "a = []\n",
    "for z in range(0,n):\n",
    "    a.append(z)\n",
    "print(a)\n",
    "\n",
    "\n",
    "matriz_massa =[]\n",
    "matriz_k = []\n",
    "matriz = []\n",
    "for z in range (0,n):\n",
    "    matriz_massa.append([])\n",
    "    matriz_k.append([])\n",
    "    matriz.append([])\n",
    "    for y in range(0,n):\n",
    "        matriz_massa[z].append(massa)\n",
    "        matriz_k[z].append(k)\n",
    "        matriz[z].append(0)\n",
    "print(matriz_massa)\n",
    "print(matriz_k)\n",
    "print(matriz)"
   ]
  },
  {
   "cell_type": "code",
   "execution_count": null,
   "id": "9e9d6985",
   "metadata": {},
   "outputs": [],
   "source": [
    "#calcula os autovalores para n = 4 em um sistema homogeneo em que o a ultima massa está ligada a primeira.\n",
    "\n",
    "a = []\n",
    "for z in range(0,n):\n",
    "    a.append(z)\n",
    "print(a)\n",
    "\n",
    "\n",
    "for i in range(0,len(a)):\n",
    "    for j in range (0,len(a)):\n",
    "\n",
    "        if i==(j%len(a)):\n",
    "            matriz[i][j] = ((matriz_k[i][(j-1)%len(a)] + matriz_k[i][(j+1)%len(a)]) / matriz_massa[i][j])\n",
    "        \n",
    "        if i==((j-1)%len(a)):\n",
    "            matriz[i][j] = -1*(matriz_k[i][j]) / (matriz_massa[i][j])\n",
    "        \n",
    "        if i==((j+1)%len(a)):\n",
    "            matriz[i][j] = -1*(matriz_k[i][j]) / (matriz_massa[i][j])\n",
    "\n",
    "print()\n",
    "for p in matriz:\n",
    "    print(p)"
   ]
  },
  {
   "cell_type": "code",
   "execution_count": 1,
   "id": "21f4ce80",
   "metadata": {},
   "outputs": [
    {
     "ename": "NameError",
     "evalue": "name 'n' is not defined",
     "output_type": "error",
     "traceback": [
      "\u001b[31m---------------------------------------------------------------------------\u001b[39m",
      "\u001b[31mNameError\u001b[39m                                 Traceback (most recent call last)",
      "\u001b[36mCell\u001b[39m\u001b[36m \u001b[39m\u001b[32mIn[1]\u001b[39m\u001b[32m, line 3\u001b[39m\n\u001b[32m      1\u001b[39m \u001b[38;5;66;03m#constroi a matriz com defeito m2=5\u001b[39;00m\n\u001b[32m      2\u001b[39m a = []\n\u001b[32m----> \u001b[39m\u001b[32m3\u001b[39m \u001b[38;5;28;01mfor\u001b[39;00m z \u001b[38;5;129;01min\u001b[39;00m \u001b[38;5;28mrange\u001b[39m(\u001b[32m0\u001b[39m,\u001b[43mn\u001b[49m):\n\u001b[32m      4\u001b[39m     a.append(z)\n\u001b[32m      5\u001b[39m \u001b[38;5;28mprint\u001b[39m(a)\n",
      "\u001b[31mNameError\u001b[39m: name 'n' is not defined"
     ]
    }
   ],
   "source": [
    "#constroi a matriz com defeito m2=5\n",
    "a = []\n",
    "for z in range(0,n):\n",
    "    a.append(z)\n",
    "print(a)\n",
    "\n",
    "\n",
    "matriz_massa =[]\n",
    "matriz_k = []\n",
    "matriz = []\n",
    "for z in range (0,n):\n",
    "    matriz_massa.append([])\n",
    "    matriz_k.append([])\n",
    "    matriz.append([])\n",
    "    for y in range(0,n):\n",
    "        matriz_massa[z].append(massa)\n",
    "        matriz_k[z].append(k)\n",
    "        if z == 2:\n",
    "            matriz[z].append(5)\n",
    "        else:\n",
    "            matriz[z].append(0)\n",
    "\n",
    "print(matriz_massa)\n",
    "print(matriz_k)\n",
    "print(matriz)"
   ]
  }
 ],
 "metadata": {
  "kernelspec": {
   "display_name": "Python 3",
   "language": "python",
   "name": "python3"
  },
  "language_info": {
   "codemirror_mode": {
    "name": "ipython",
    "version": 3
   },
   "file_extension": ".py",
   "mimetype": "text/x-python",
   "name": "python",
   "nbconvert_exporter": "python",
   "pygments_lexer": "ipython3",
   "version": "3.12.3"
  }
 },
 "nbformat": 4,
 "nbformat_minor": 5
}
