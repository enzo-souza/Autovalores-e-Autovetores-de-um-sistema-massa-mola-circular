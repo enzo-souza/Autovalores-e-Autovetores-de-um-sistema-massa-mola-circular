{
 "cells": [
  {
   "cell_type": "code",
   "execution_count": 22,
   "id": "0c0b1f55",
   "metadata": {},
   "outputs": [],
   "source": [
    "import numpy as np\n",
    "import matplotlib.pyplot as plt"
   ]
  },
  {
   "cell_type": "code",
   "execution_count": 2,
   "id": "a240ffa8",
   "metadata": {},
   "outputs": [],
   "source": [
    "massa = 1\n",
    "k = 1\n",
    "\n"
   ]
  },
  {
   "cell_type": "code",
   "execution_count": 3,
   "id": "db8527e9",
   "metadata": {},
   "outputs": [
    {
     "name": "stdout",
     "output_type": "stream",
     "text": [
      "4 -1\n",
      "1 0\n",
      "2 1\n",
      "3 2\n",
      "4 3\n",
      "1 4\n"
     ]
    }
   ],
   "source": [
    "#constroi o loop para o problema circular\n",
    "a = [1,2,3,4]\n",
    "for i in range(-1,len(a)+1):\n",
    "    print(a[i%len(a)],i)"
   ]
  },
  {
   "cell_type": "code",
   "execution_count": 16,
   "id": "0948ee9e",
   "metadata": {},
   "outputs": [],
   "source": [
    "n = int(input())"
   ]
  },
  {
   "cell_type": "code",
   "execution_count": 17,
   "id": "488cc5c2",
   "metadata": {},
   "outputs": [
    {
     "name": "stdout",
     "output_type": "stream",
     "text": [
      "[0, 1, 2, 3]\n",
      "[[1, 1, 1, 1], [1, 1, 1, 1], [1, 1, 1, 1], [1, 1, 1, 1]]\n",
      "[[1, 1, 1, 1], [1, 1, 1, 1], [1, 1, 1, 1], [1, 1, 1, 1]]\n",
      "[[0, 0, 0, 0], [0, 0, 0, 0], [0, 0, 0, 0], [0, 0, 0, 0]]\n"
     ]
    }
   ],
   "source": [
    "#constroi a matriz homogenea\n",
    "a = []\n",
    "for z in range(0,n):\n",
    "    a.append(z)\n",
    "print(a)\n",
    "\n",
    "\n",
    "matriz_massa =[]\n",
    "matriz_k = []\n",
    "matriz = []\n",
    "for z in range (0,n):\n",
    "    matriz_massa.append([])\n",
    "    matriz_k.append([])\n",
    "    matriz.append([])\n",
    "    for y in range(0,n):\n",
    "        matriz_massa[z].append(massa)\n",
    "        matriz_k[z].append(k)\n",
    "        matriz[z].append(0)\n",
    "print(matriz_massa)\n",
    "print(matriz_k)\n",
    "print(matriz)"
   ]
  },
  {
   "cell_type": "code",
   "execution_count": 18,
   "id": "9e9d6985",
   "metadata": {},
   "outputs": [
    {
     "name": "stdout",
     "output_type": "stream",
     "text": [
      "[0, 1, 2, 3]\n",
      "\n",
      "[2.0, -1.0, 0, -1.0]\n",
      "[-1.0, 2.0, -1.0, 0]\n",
      "[0, -1.0, 2.0, -1.0]\n",
      "[-1.0, 0, -1.0, 2.0]\n"
     ]
    }
   ],
   "source": [
    "#calcula os autovalores para n = 4 em um sistema homogeneo em que o a ultima massa está ligada a primeira.\n",
    "\n",
    "a = []\n",
    "for z in range(0,n):\n",
    "    a.append(z)\n",
    "print(a)\n",
    "\n",
    "\n",
    "for i in range(0,len(a)):\n",
    "    for j in range (0,len(a)):\n",
    "\n",
    "        if i==(j%len(a)):\n",
    "            matriz[i][j] = ((matriz_k[i][(j-1)%len(a)] + matriz_k[i][(j+1)%len(a)]) / matriz_massa[i][j])\n",
    "        \n",
    "        if i==((j-1)%len(a)):\n",
    "            matriz[i][j] = -1*(matriz_k[i][j]) / (matriz_massa[i][j])\n",
    "        \n",
    "        if i==((j+1)%len(a)):\n",
    "            matriz[i][j] = -1*(matriz_k[i][j]) / (matriz_massa[i][j])\n",
    "\n",
    "print()\n",
    "for p in matriz:\n",
    "    print(p)"
   ]
  },
  {
   "cell_type": "code",
   "execution_count": 19,
   "id": "21f4ce80",
   "metadata": {},
   "outputs": [
    {
     "name": "stdout",
     "output_type": "stream",
     "text": [
      "[0, 1, 2, 3]\n",
      "[[1, 1, 1, 1], [5, 5, 5, 5], [1, 1, 1, 1], [1, 1, 1, 1]]\n",
      "[[1, 1, 1, 1], [1, 1, 1, 1], [1, 1, 1, 1], [1, 1, 1, 1]]\n",
      "[[0, 0, 0, 0], [0, 0, 0, 0], [0, 0, 0, 0], [0, 0, 0, 0]]\n",
      "[0, 1, 2, 3]\n",
      "\n",
      "[2.0, -1.0, 0, -1.0]\n",
      "[-0.2, 0.4, -0.2, 0]\n",
      "[0, -1.0, 2.0, -1.0]\n",
      "[-1.0, 0, -1.0, 2.0]\n"
     ]
    }
   ],
   "source": [
    "#constroi a matriz com defeito m2=5\n",
    "a = []\n",
    "for z in range(0,n):\n",
    "    a.append(z)\n",
    "print(a)\n",
    "\n",
    "\n",
    "matriz_massa =[]\n",
    "matriz_k = []\n",
    "matriz = []\n",
    "for z in range (0,n):\n",
    "    matriz_massa.append([])\n",
    "    matriz_k.append([])\n",
    "    matriz.append([])\n",
    "    for y in range(0,n):\n",
    "        matriz_k[z].append(k)\n",
    "        matriz[z].append(0)\n",
    "\n",
    "        if z == 1:\n",
    "            matriz_massa[z].append(5)\n",
    "        else:\n",
    "            matriz_massa[z].append(massa)\n",
    "\n",
    "print(matriz_massa)\n",
    "print(matriz_k)\n",
    "print(matriz)\n",
    "\n",
    "\n",
    "#calcula os autovalores para n = 4 em um sistema homogeneo em que o a ultima massa está ligada a primeira.\n",
    "\n",
    "a = []\n",
    "for z in range(0,n):\n",
    "    a.append(z)\n",
    "print(a)\n",
    "\n",
    "\n",
    "for i in range(0,len(a)):\n",
    "    for j in range (0,len(a)):\n",
    "\n",
    "        if i==(j%len(a)):\n",
    "            matriz[i][j] = ((matriz_k[i][(j-1)%len(a)] + matriz_k[i][(j+1)%len(a)]) / matriz_massa[i][j])\n",
    "        \n",
    "        if i==((j-1)%len(a)):\n",
    "            matriz[i][j] = -1*(matriz_k[i][j]) / (matriz_massa[i][j])\n",
    "        \n",
    "        if i==((j+1)%len(a)):\n",
    "            matriz[i][j] = -1*(matriz_k[i][j]) / (matriz_massa[i][j])\n",
    "\n",
    "print()\n",
    "for p in matriz:\n",
    "    print(p)"
   ]
  },
  {
   "cell_type": "code",
   "execution_count": 33,
   "id": "4a86e34d",
   "metadata": {},
   "outputs": [
    {
     "name": "stdout",
     "output_type": "stream",
     "text": [
      "Autovalores: [ 3.48062485e+00  2.00000000e+00 -3.31432014e-16  9.19375153e-01]\n"
     ]
    },
    {
     "data": {
      "image/png": "[encoded data removed]",
      "text/plain": [
       "<Figure size 600x400 with 1 Axes>"
      ]
     },
     "metadata": {},
     "output_type": "display_data"
    }
   ],
   "source": [
    "import matplotlib.pyplot as plt\n",
    "\n",
    "# Calcula os autovalores da matriz\n",
    "autovalores = np.linalg.eigvals(matriz)\n",
    "print(\"Autovalores:\", autovalores)\n",
    "\n",
    "# Plota a densidade de estados (histograma dos autovalores)\n",
    "plt.figure(figsize=(6,4))\n",
    "plt.hist(autovalores.real, bins=20, density=True, alpha=0.7, color='blue')\n",
    "plt.xlabel('Autovalores')\n",
    "plt.ylabel('Densidade de estados')\n",
    "plt.title('Densidade de estados dos autovalores')\n",
    "plt.grid(True)\n",
    "plt.show()"
   ]
  }
 ],
 "metadata": {
  "kernelspec": {
   "display_name": "Python 3",
   "language": "python",
   "name": "python3"
  },
  "language_info": {
   "codemirror_mode": {
    "name": "ipython",
    "version": 3
   },
   "file_extension": ".py",
   "mimetype": "text/x-python",
   "name": "python",
   "nbconvert_exporter": "python",
   "pygments_lexer": "ipython3",
   "version": "3.12.3"
  }
 },
 "nbformat": 4,
 "nbformat_minor": 5
}
