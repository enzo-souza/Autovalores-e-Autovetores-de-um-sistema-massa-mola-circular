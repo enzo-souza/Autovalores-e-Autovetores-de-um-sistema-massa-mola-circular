{
 "cells": [
  {
   "cell_type": "code",
   "execution_count": 2,
   "id": "0c0b1f55",
   "metadata": {},
   "outputs": [],
   "source": [
    "import numpy as np"
   ]
  },
  {
   "cell_type": "code",
   "execution_count": null,
   "id": "a240ffa8",
   "metadata": {},
   "outputs": [],
   "source": [
    "massa = 1\n",
    "k = 2\n",
    "\n",
    "dii = \n"
   ]
  },
  {
   "cell_type": "code",
   "execution_count": 11,
   "id": "58af0436",
   "metadata": {},
   "outputs": [],
   "source": [
    "x = np.array([[3,0,0],[0,3,2],[0,-1,0]])"
   ]
  },
  {
   "cell_type": "code",
   "execution_count": 12,
   "id": "9004d8f6",
   "metadata": {},
   "outputs": [],
   "source": [
    "autovalores,autovetores = np.linalg.eig(x)"
   ]
  },
  {
   "cell_type": "code",
   "execution_count": 13,
   "id": "68dbda64",
   "metadata": {},
   "outputs": [
    {
     "data": {
      "text/plain": [
       "array([1., 2., 3.])"
      ]
     },
     "execution_count": 13,
     "metadata": {},
     "output_type": "execute_result"
    }
   ],
   "source": [
    "autovalores"
   ]
  },
  {
   "cell_type": "code",
   "execution_count": 14,
   "id": "39d38970",
   "metadata": {},
   "outputs": [
    {
     "data": {
      "text/plain": [
       "array([[ 0.        ,  0.        ,  1.        ],\n",
       "       [ 0.70710678, -0.89442719,  0.        ],\n",
       "       [-0.70710678,  0.4472136 ,  0.        ]])"
      ]
     },
     "execution_count": 14,
     "metadata": {},
     "output_type": "execute_result"
    }
   ],
   "source": [
    "autovetores"
   ]
  },
  {
   "cell_type": "markdown",
   "id": "62e97947",
   "metadata": {},
   "source": []
  },
  {
   "cell_type": "code",
   "execution_count": 29,
   "id": "db8527e9",
   "metadata": {},
   "outputs": [
    {
     "name": "stdout",
     "output_type": "stream",
     "text": [
      "4 -1\n",
      "1 0\n",
      "2 1\n",
      "3 2\n",
      "4 3\n",
      "1 4\n"
     ]
    }
   ],
   "source": [
    "#constroi o loop para o problema circular\n",
    "a = [1,2,3,4]\n",
    "for i in range(-1,len(a)+1):\n",
    "    print(a[i%len(a)],i)"
   ]
  },
  {
   "cell_type": "code",
   "execution_count": null,
   "id": "9e9d6985",
   "metadata": {},
   "outputs": [
    {
     "name": "stdout",
     "output_type": "stream",
     "text": [
      "[0, 1, 2, 3]\n",
      "\n",
      "3 301230\n",
      "0 301230\n",
      "1 301230\n",
      "2 301230\n",
      "3 301230\n",
      "0 301230"
     ]
    }
   ],
   "source": [
    "#constroi o loop para o problema circular\n",
    "n = 4\n",
    "a = []\n",
    "for z in range(0,n):\n",
    "    a.append(z)\n",
    "print(a)\n",
    "\n",
    "matriz =[]\n",
    "for z in range (0,n):\n",
    "    for y in range(0,n):\n",
    "        matriz.append(0)\n",
    "\n",
    "for i in range(-1,len(a)+1):\n",
    "    print()\n",
    "    print(a[i%len(a)],end=\" \")\n",
    "    for j in range (-1,len(a)+1):\n",
    "        print(a[j%len(a)],end=\"\")"
   ]
  }
 ],
 "metadata": {
  "kernelspec": {
   "display_name": "Python 3",
   "language": "python",
   "name": "python3"
  },
  "language_info": {
   "codemirror_mode": {
    "name": "ipython",
    "version": 3
   },
   "file_extension": ".py",
   "mimetype": "text/x-python",
   "name": "python",
   "nbconvert_exporter": "python",
   "pygments_lexer": "ipython3",
   "version": "3.12.3"
  }
 },
 "nbformat": 4,
 "nbformat_minor": 5
}
